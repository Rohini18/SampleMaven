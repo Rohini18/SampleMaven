{
  "nbformat": 4,
  "nbformat_minor": 0,
  "metadata": {
    "colab": {
      "provenance": [],
      "authorship_tag": "ABX9TyO4UaRiyE/woY4zoWgeIa2u",
      "include_colab_link": true
    },
    "kernelspec": {
      "name": "python3",
      "display_name": "Python 3"
    },
    "language_info": {
      "name": "python"
    }
  },
  "cells": [
    {
      "cell_type": "markdown",
      "metadata": {
        "id": "view-in-github",
        "colab_type": "text"
      },
      "source": [
        "<a href=\"https://colab.research.google.com/github/Rohini18/SampleMaven/blob/master/Assignment_02.ipynb\" target=\"_parent\"><img src=\"https://colab.research.google.com/assets/colab-badge.svg\" alt=\"Open In Colab\"/></a>"
      ]
    },
    {
      "cell_type": "code",
      "source": [
        "#Problem1:\n",
        "filenames = ['view.jpg', 'bear.jpg', 'ball.png']\n",
        "filenames.insert(0,'phone.jpg')\n",
        "filenames.remove(filenames[len(filenames)-1])\n",
        "print(filenames)\n",
        "\n",
        "#Problem 2:\n",
        "L = [1,2,3,4,5,6,7,8,9,10]\n",
        "print('maximum value', max(L) , '\\nminimum value' ,min(L), '\\nAverage',sum(L)/len(L))\n",
        "\n",
        "L.sort()\n",
        "print('maximum value', L[-1] , '\\nminimum value' ,L[0], '\\nAverage',sum(L)/len(L))"
      ],
      "metadata": {
        "id": "3MJKBsJdsL-F"
      },
      "execution_count": null,
      "outputs": []
    },
    {
      "cell_type": "code",
      "source": [
        "#Medium\n",
        "#Problem1:\n",
        "L = [1,1,1,1,2,2,3,3,3,3,4,5]\n",
        "unq_L=[]\n",
        "for e in L:\n",
        "        if e not in unq_L:\n",
        "            unq_L.append(e)\n",
        "print(unq_L)\n",
        "\n",
        "#Problem2:\n",
        "L = [1,2,3,4, [4,3] ]\n",
        "num = int(input('num to search'))\n",
        "for e in L:\n",
        "  if isinstance(e, list):\n",
        "    if num in e:\n",
        "      print(\"exists\")\n",
        "    else:\n",
        "      print(\"do not exist\")\n"
      ],
      "metadata": {
        "id": "oiOqrFjDs3jO"
      },
      "execution_count": null,
      "outputs": []
    },
    {
      "cell_type": "code",
      "source": [
        "#Hard\n",
        "#problem1:\n",
        "numbers_nested = [[1,-1,2],[0,-5,3,5,-2],[1,2,1,0,-2,-3]]\n",
        "newlist=[]\n",
        "newlist1=[]\n",
        "for e in numbers_nested:\n",
        "  for f in e:\n",
        "    if f>0:\n",
        "      newlist.append(f)\n",
        "print(newlist)\n",
        "#alternate\n",
        "for e in numbers_nested:\n",
        "  positive=[f for f in e if f>0]\n",
        "  newlist1.append(positive)\n",
        "print(newlist1)\n",
        "\n",
        "#problem2:\n",
        "listsL = [ [1,2,3] , [ 4,5,6,3 ], [-1,-2,-10,5,8] ]\n",
        "newlist=[]\n",
        "total=0\n",
        "for e in listsL:\n",
        "    avg=sum(e)/len(e)\n",
        "    total+=avg\n",
        "print(total)"
      ],
      "metadata": {
        "id": "on9KlGhp61qC"
      },
      "execution_count": null,
      "outputs": []
    }
  ]
}