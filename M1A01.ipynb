{
  "nbformat": 4,
  "nbformat_minor": 0,
  "metadata": {
    "colab": {
      "provenance": [],
      "toc_visible": true,
      "authorship_tag": "ABX9TyMqDEysV21RyGUysCPYa3uY",
      "include_colab_link": true
    },
    "kernelspec": {
      "name": "python3",
      "display_name": "Python 3"
    },
    "language_info": {
      "name": "python"
    }
  },
  "cells": [
    {
      "cell_type": "markdown",
      "metadata": {
        "id": "view-in-github",
        "colab_type": "text"
      },
      "source": [
        "<a href=\"https://colab.research.google.com/github/Rohini18/SampleMaven/blob/master/M1A01.ipynb\" target=\"_parent\"><img src=\"https://colab.research.google.com/assets/colab-badge.svg\" alt=\"Open In Colab\"/></a>"
      ]
    },
    {
      "cell_type": "code",
      "execution_count": null,
      "metadata": {
        "colab": {
          "base_uri": "https://localhost:8080/"
        },
        "id": "2TuMRfl5FDVG",
        "outputId": "0ed065a6-bed6-4c55-ccef-6e7e6fd63f87"
      },
      "outputs": [
        {
          "output_type": "stream",
          "name": "stdout",
          "text": [
            "Enter any number5\n",
            "Fuzz\n"
          ]
        }
      ],
      "source": [
        "number= eval(input(\"Enter any number\"))\n",
        "if number%3==0 and number%5==0:\n",
        "    print('Fizz Buzz')\n",
        "elif number%5==0:\n",
        "    print(\"Fuzz\")\n",
        "elif number%3==0:\n",
        "    print(\"Fizz\")"
      ]
    }
  ]
}