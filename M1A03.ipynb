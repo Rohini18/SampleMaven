{
  "nbformat": 4,
  "nbformat_minor": 0,
  "metadata": {
    "colab": {
      "provenance": [],
      "authorship_tag": "ABX9TyP79lJunNu9EW4abKcEzbe/",
      "include_colab_link": true
    },
    "kernelspec": {
      "name": "python3",
      "display_name": "Python 3"
    },
    "language_info": {
      "name": "python"
    }
  },
  "cells": [
    {
      "cell_type": "markdown",
      "metadata": {
        "id": "view-in-github",
        "colab_type": "text"
      },
      "source": [
        "<a href=\"https://colab.research.google.com/github/Rohini18/SampleMaven/blob/master/M1A03.ipynb\" target=\"_parent\"><img src=\"https://colab.research.google.com/assets/colab-badge.svg\" alt=\"Open In Colab\"/></a>"
      ]
    },
    {
      "cell_type": "code",
      "execution_count": null,
      "metadata": {
        "id": "2CgS3r0jGkyi"
      },
      "outputs": [],
      "source": [
        "calls=int(input('Enter calls'))\n",
        "money=0\n",
        "if calls<100:\n",
        "    money+=200\n",
        "elif calls>100 and calls<150:\n",
        "    money+=200\n",
        "    money+=(calls-100)*0.60\n",
        "elif calls>150 and calls>200:\n",
        "    money+=200+(50*0.60)\n",
        "    money+=(calls-150)*0.50\n",
        "elif calls>200:\n",
        "    money+=200+(50*0.60)+(50*0.50)\n",
        "    money+=(calls-200)*0.40\n",
        "print(money)"
      ]
    }
  ]
}